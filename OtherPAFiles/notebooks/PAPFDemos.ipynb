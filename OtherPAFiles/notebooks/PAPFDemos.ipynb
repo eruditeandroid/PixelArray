{
 "cells": [
  {
   "cell_type": "code",
   "execution_count": null,
   "metadata": {},
   "outputs": [],
   "source": [
    "# Collection of demonstrations of PixelArray(PowerFlow) functionality"
   ]
  },
  {
   "cell_type": "code",
   "execution_count": null,
   "metadata": {},
   "outputs": [],
   "source": [
    "push!(LOAD_PATH, \"../jlfiles/\")\n",
    "\n",
    "using Plots, PixelArray, PixelArrayPowerFlow\n",
    "\n",
    "pyplot()"
   ]
  },
  {
   "cell_type": "code",
   "execution_count": null,
   "metadata": {},
   "outputs": [],
   "source": [
    "# Plot elliptic curve\n",
    "# This doesn't rely on any multiplication or PAPF tests\n",
    "genericport = Port(-2,2,100)\n",
    "packXY = Pack(Dict(\"x\"=>genericport, \"y\"=>genericport), [\"x\",\"y\"])\n",
    "demopwa = PackWithArray(packXY, pazeroset(packXY, (x,y) -> x^2 + y^3 - 0.5, 0.1))\n",
    "hmp = plot(demopwa, color=cgrad([:white; :black]))"
   ]
  },
  {
   "cell_type": "code",
   "execution_count": null,
   "metadata": {},
   "outputs": [],
   "source": [
    "# Plot half a line in an unnecessarily-complicated way to test out multiplication\n",
    "# No PAPF required\n",
    "genericport = Port(-2, 2, 100)\n",
    "tol = 0.08\n",
    "packXY = Pack(Dict(\"x\"=>genericport, \"y\"=>genericport), [\"x\", \"y\"])\n",
    "packYZ = Pack(Dict(\"y\"=>genericport, \"z\"=>genericport), [\"y\", \"z\"])\n",
    "pwaXY = PackWithArray(packXY, pazeroset(packXY, (x, y) -> x - y^2, tol))\n",
    "pwaYZ = PackWithArray(packYZ, pazeroset(packYZ, (y, z) -> z - 2 * y^2, tol))\n",
    "pwaXZ = mergemult([pwaXY, pwaYZ], [\"y\"])\n",
    "hmp = plot(pwaXZ, color=cgrad([:white; :black]))"
   ]
  },
  {
   "cell_type": "code",
   "execution_count": null,
   "metadata": {},
   "outputs": [],
   "source": [
    "# Plot a parabola with a single fixed parameter to test pagraph with fixed variables\n",
    "genericport = Port(-2, 2, 100)\n",
    "aval = -1.0\n",
    "packXY = Pack(Dict(\"x\"=>genericport, \"y\"=>genericport), [\"x\", \"y\"])\n",
    "pwaXY = PackWithArray(packXY, pagraph(packXY, (x, a) -> x^2 + a, \"y\", Dict(3=>aval)))\n",
    "hmp = plot(pwaXY, color=cgrad([:white; :black]))"
   ]
  },
  {
   "cell_type": "code",
   "execution_count": null,
   "metadata": {},
   "outputs": [],
   "source": [
    "# Simple 2-bus problem\n",
    "# Only exposed vars are P1, Q1\n",
    "\n",
    "minθ = -π/6\n",
    "maxθ = π/6\n",
    "\n",
    "n = importnetwork(\"../testnetworks/2busfree\", 1., minθ, maxθ)\n",
    "\n",
    "allres = 100\n",
    "tol = 0.05\n",
    "\n",
    "psp = PackSetupParams(fill(allres,4)...)\n",
    "@time pwas = getpfpwas(n, psp, tol)\n",
    "\n",
    "# Intermediate: hide P2 and Q2\n",
    "hidden = hidePQ(n, pwas, [2])\n",
    "    \n",
    "# Perform final array multiplication, leaving V2 and θ2 unexposed\n",
    "finalpwa = clustertree(n, hidden, 1)\n",
    "\n",
    "plot(finalpwa, color=cgrad([:white; :black]))"
   ]
  },
  {
   "cell_type": "code",
   "execution_count": null,
   "metadata": {},
   "outputs": [],
   "source": [
    "# Experiment plotting run-time versus resolution for 2-bus system\n",
    "\n",
    "# Setup\n",
    "n = importnetwork(\"../testnetworks/2busfree\", 1.)\n",
    "tol = 0.1\n",
    "ntrials = 30\n",
    "resolutions = 1:ntrials\n",
    "times = zeros(ntrials)\n",
    "\n",
    "# Experiment, stage 1 (should scale with r^4)\n",
    "for i = 1:ntrials\n",
    "    psp = PackSetupParams(fill(resolutions[i],4)...)\n",
    "    pwas = getpfpwas(n, psp, tol)\n",
    "    \n",
    "    times[i] = @elapsed begin\n",
    "        # Intermediate: hide P2 and Q2\n",
    "        hidden = hidePQ(n, pwas, [2])\n",
    "        \n",
    "        # Perform final array multiplication, leaving V2 and θ2 unexposed\n",
    "        finalpwa = clustertree(n, hidden, 1)\n",
    "    end\n",
    "end\n",
    "\n",
    "# More setup for stage 2\n",
    "times2 = zeros(ntrials)\n",
    "\n",
    "# Experiment, stage 2 (should scale with r^5)\n",
    "for i = 1:ntrials\n",
    "    psp2 = PackSetupParams(fill(resolutions[i],4)...)\n",
    "    pwas2 = getpfpwas(n, psp2, tol)\n",
    "    \n",
    "    times2[i] = @elapsed begin\n",
    "        # Hide P2 but not Q2\n",
    "        hiddenP2 = mergemult([pwas2[3]], [\"P2\"])\n",
    "        \n",
    "        # Multiply all 4, leaving V2 and θ2 unexposed\n",
    "        bigpwa = clustertree(n, [pwas2[1], pwas2[2], hiddenP2, pwas2[4]], 1)\n",
    "        \n",
    "        # Hide P2, Q2\n",
    "        finalpwa2 = mergemult([bigpwa],[\"Q2\"])\n",
    "    end\n",
    "end"
   ]
  },
  {
   "cell_type": "code",
   "execution_count": null,
   "metadata": {},
   "outputs": [],
   "source": [
    "# Plot results\n",
    "plot2 = plot(resolutions, times, seriescolor=:blue, label=\"Efficient Clustering\")\n",
    "plot!(plot2, resolutions, times2, seriescolor=:red, label=\"Inefficient Clustering\")\n",
    "plot!(plot2, xlabel=\"Resolution of each dimension\", ylabel=\"Time (s)\", legend=:topleft)\n",
    "plot!(plot2, title=\"Multiplication Time vs. Resolution of 2-Bus Pixel Array\")\n",
    "#savefig(plot2, \"complexity.pdf\")"
   ]
  },
  {
   "cell_type": "code",
   "execution_count": null,
   "metadata": {},
   "outputs": [],
   "source": []
  }
 ],
 "metadata": {
  "kernelspec": {
   "display_name": "Julia 1.0.3",
   "language": "julia",
   "name": "julia-1.0"
  },
  "language_info": {
   "file_extension": ".jl",
   "mimetype": "application/julia",
   "name": "julia",
   "version": "1.0.3"
  }
 },
 "nbformat": 4,
 "nbformat_minor": 2
}
