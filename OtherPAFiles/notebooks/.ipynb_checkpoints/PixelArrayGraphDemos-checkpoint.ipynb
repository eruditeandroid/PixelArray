{
 "cells": [
  {
   "cell_type": "code",
   "execution_count": 1,
   "metadata": {},
   "outputs": [],
   "source": [
    "push!(LOAD_PATH, \"../modules/\")\n",
    "\n",
    "using PixelArray\n",
    "\n",
    "# using Plots\n",
    "# pyplot()"
   ]
  },
  {
   "cell_type": "code",
   "execution_count": 4,
   "metadata": {},
   "outputs": [
    {
     "name": "stdout",
     "output_type": "stream",
     "text": [
      "  0.076712 seconds (163.23 k allocations: 8.005 MiB)\n",
      "  0.027382 seconds (71.24 k allocations: 3.647 MiB)\n"
     ]
    }
   ],
   "source": [
    "# Test case for 2 variables, low resolution\n",
    "genericport = Port(-2,2,100)\n",
    "packXY = Pack(Dict(\"x\"=>genericport, \"y\"=>genericport), [\"x\",\"y\"])\n",
    "@time demopwa = PackWithArray(packXY, pagraph(packXY, x -> x^2, \"y\"))\n",
    "@time demopwa2 = PackWithArray(packXY, pazeroset(packXY, (x, y) -> y - x^2, 0.01))\n",
    "nothing\n",
    "#plot(demopwa, color=cgrad([:white; :black]))"
   ]
  },
  {
   "cell_type": "code",
   "execution_count": 8,
   "metadata": {},
   "outputs": [
    {
     "name": "stdout",
     "output_type": "stream",
     "text": [
      "  0.306853 seconds (163.23 k allocations: 31.938 MiB, 1.45% gc time)\n",
      "  1.192404 seconds (71.25 k allocations: 1.598 GiB, 5.83% gc time)\n"
     ]
    }
   ],
   "source": [
    "# Test case for 2 variables, high resolution\n",
    "# Note that the pagraph method works faster in this case\n",
    "genericport = Port(-2,2,10000)\n",
    "packXY = Pack(Dict(\"x\"=>genericport, \"y\"=>genericport), [\"x\",\"y\"])\n",
    "@time demopwa = PackWithArray(packXY, pagraph(packXY, x -> x^2, \"y\"))\n",
    "@time demopwa2 = PackWithArray(packXY, pazeroset(packXY, (x, y) -> y - x^2, 0.01))\n",
    "nothing\n",
    "#plot(demopwa, color=cgrad([:white; :black]))"
   ]
  },
  {
   "cell_type": "code",
   "execution_count": 11,
   "metadata": {},
   "outputs": [
    {
     "name": "stdout",
     "output_type": "stream",
     "text": [
      "  0.090787 seconds (178.88 k allocations: 9.021 MiB, 10.12% gc time)\n",
      "  0.044177 seconds (75.72 k allocations: 27.629 MiB, 5.95% gc time)\n"
     ]
    }
   ],
   "source": [
    "# Test case for 3 variables\n",
    "genericport = Port(-2,2,100)\n",
    "packXYZ = Pack(Dict(\"x\"=>genericport, \"y\"=>genericport, \"z\"=>genericport), [\"x\",\"y\",\"z\"])\n",
    "@time demopwa = PackWithArray(packXYZ, pagraph(packXYZ, (x,y) -> x^2 + y^2, \"z\"))\n",
    "@time demopwa2 = PackWithArray(packXYZ, pazeroset(packXYZ, (x,y,z) -> z - (x^2 + y^2), 0.01))\n",
    "nothing"
   ]
  },
  {
   "cell_type": "code",
   "execution_count": null,
   "metadata": {},
   "outputs": [],
   "source": [
    "# Recorded times from an older version\n",
    "\n",
    "0.112725 seconds (193.91 k allocations: 9.444 MiB)\n",
    "0.048903 seconds (153.42 k allocations: 6.887 MiB, 11.53% gc time)\n",
    "\n",
    "0.137923 seconds (279.90 k allocations: 24.167 MiB, 3.29% gc time) # faster w/ less memory use - why???\n",
    "9.512560 seconds (400.11 M allocations: 13.521 GiB, 11.52% gc time)\n",
    "\n",
    "0.117589 seconds (262.51 k allocations: 12.134 MiB, 4.79% gc time)\n",
    "0.161727 seconds (5.12 M allocations: 174.789 MiB, 10.82% gc time)"
   ]
  }
 ],
 "metadata": {
  "kernelspec": {
   "display_name": "Julia 1.0.0",
   "language": "julia",
   "name": "julia-1.0"
  },
  "language_info": {
   "file_extension": ".jl",
   "mimetype": "application/julia",
   "name": "julia",
   "version": "1.0.3"
  }
 },
 "nbformat": 4,
 "nbformat_minor": 2
}
